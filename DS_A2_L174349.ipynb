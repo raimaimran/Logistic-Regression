{
  "nbformat": 4,
  "nbformat_minor": 0,
  "metadata": {
    "kernelspec": {
      "display_name": "Python 3",
      "language": "python",
      "name": "python3"
    },
    "language_info": {
      "codemirror_mode": {
        "name": "ipython",
        "version": 3
      },
      "file_extension": ".py",
      "mimetype": "text/x-python",
      "name": "python",
      "nbconvert_exporter": "python",
      "pygments_lexer": "ipython3",
      "version": "3.7.7"
    },
    "colab": {
      "name": "DS - A2 - L174349.ipynb",
      "provenance": [],
      "collapsed_sections": [],
      "toc_visible": true
    }
  },
  "cells": [
    {
      "cell_type": "markdown",
      "metadata": {
        "id": "zYzab0WRvNiS"
      },
      "source": [
        "# **LOGISTIC REGRESSION**"
      ]
    },
    {
      "cell_type": "code",
      "metadata": {
        "colab": {
          "base_uri": "https://localhost:8080/"
        },
        "id": "LCRBb_dTvT9_",
        "outputId": "0994ded7-64af-4847-e272-f91ba3b15223"
      },
      "source": [
        "from google.colab import drive\n",
        "drive.mount('/content/drive')"
      ],
      "execution_count": null,
      "outputs": [
        {
          "output_type": "stream",
          "text": [
            "Mounted at /content/drive\n"
          ],
          "name": "stdout"
        }
      ]
    },
    {
      "cell_type": "markdown",
      "metadata": {
        "id": "HA9JnmYevNij"
      },
      "source": [
        "## **Visualizing the Data**"
      ]
    },
    {
      "cell_type": "code",
      "metadata": {
        "id": "WcBMgzCfvNil"
      },
      "source": [
        "import numpy as np \n",
        "import matplotlib.pyplot as plt"
      ],
      "execution_count": null,
      "outputs": []
    },
    {
      "cell_type": "code",
      "metadata": {
        "id": "-yGA_pZTvNim"
      },
      "source": [
        "data = np.loadtxt(\"/content/drive/MyDrive/Colab Notebooks/ex2data1.txt\", delimiter=',' )\n",
        "\n",
        "X, y = np.split(data,[-1],axis=1) #splitting data into x and y"
      ],
      "execution_count": null,
      "outputs": []
    },
    {
      "cell_type": "code",
      "metadata": {
        "colab": {
          "base_uri": "https://localhost:8080/",
          "height": 350
        },
        "id": "TsXfElRVvNio",
        "outputId": "5af8f558-a25e-49c5-915a-3738853862d4"
      },
      "source": [
        "plt.figure(figsize=(5,5))\n",
        "\n",
        "plt.title('Scatter Plot of training data')\n",
        "plt.xlabel('Exam 1 Score')\n",
        "plt.ylabel('Exam 2 score')\n",
        "\n",
        "# getting X values with label 0 and 1 and plotting them \n",
        "label_0 = np.where(y == 0)[0]\n",
        "plt.scatter(X[label_0, 0], X[label_0, 1], marker = \"o\", c= 'yellow', label = \"Not Admitted\")\n",
        "\n",
        "label_1 = np.where(y == 1)[0]\n",
        "plt.scatter(X[label_1, 0], X[label_1, 1], marker = \"+\", c= 'black', label = \"Admitted\")\n",
        "\n",
        "plt.legend()\n",
        "plt.show()"
      ],
      "execution_count": null,
      "outputs": [
        {
          "output_type": "display_data",
          "data": {
            "image/png": "[encoded data removed]",
            "text/plain": [
              "<Figure size 360x360 with 1 Axes>"
            ]
          },
          "metadata": {
            "tags": [],
            "needs_background": "light"
          }
        }
      ]
    },
    {
      "cell_type": "markdown",
      "metadata": {
        "id": "LcgY82pOvNiq"
      },
      "source": [
        "## **Implementation**"
      ]
    },
    {
      "cell_type": "markdown",
      "metadata": {
        "id": "AxJPWqwyvNir"
      },
      "source": [
        "### **Sigmoid Function** "
      ]
    },
    {
      "cell_type": "code",
      "metadata": {
        "id": "g5H-u7nKvNis"
      },
      "source": [
        "def sigmoid(h_x):\n",
        "    sigmoid_func = 1 / (1 + np.exp(- h_x))\n",
        "    #print(sigmoid_func)\n",
        "    return sigmoid_func"
      ],
      "execution_count": null,
      "outputs": []
    },
    {
      "cell_type": "markdown",
      "metadata": {
        "id": "kuFqS1dLvNit"
      },
      "source": [
        "### **Cost and Gradient Function** "
      ]
    },
    {
      "cell_type": "code",
      "metadata": {
        "id": "7tBl6NHSvNit"
      },
      "source": [
        "def cost_function(theta, x, y, h_x):\n",
        "    m = x.shape[0]\n",
        "    cost = - (1 / m) * np.sum(y  * np.log(sigmoid(h_x)) + (1 - y) * np.log(1 - sigmoid(h_x)))\n",
        "    return cost\n",
        "\n",
        "\n",
        "def gradient_func(x, y, h_x):\n",
        "    m = x.shape[0]\n",
        "    return (1 / m) * np.dot(x.T, sigmoid(h_x) - y)"
      ],
      "execution_count": null,
      "outputs": []
    },
    {
      "cell_type": "markdown",
      "metadata": {
        "id": "8aCfL2U-vNiu"
      },
      "source": [
        "### **Learning Parameters and Plotting** "
      ]
    },
    {
      "cell_type": "code",
      "metadata": {
        "id": "VVkb37W5vNiv"
      },
      "source": [
        "mean = np.mean(X, axis = 0)  \n",
        "standard_dev = np.std(X, axis= 0, ddof = 1)\n",
        "# (X- mean) / standard_dev\n",
        "X = (X - mean) / standard_dev\n",
        "X = np.hstack((np.ones((len(X),1)), X))"
      ],
      "execution_count": null,
      "outputs": []
    },
    {
      "cell_type": "code",
      "metadata": {
        "colab": {
          "base_uri": "https://localhost:8080/"
        },
        "id": "mUrQ9aFSvNiw",
        "outputId": "04c523c6-6bb7-48cb-fc3d-46456b6e3282"
      },
      "source": [
        "theta = np.zeros((X.shape[1], 1))\n",
        "learning_rate = 0.6\n",
        "iterations = 1000\n",
        "m = X.shape[0] \n",
        "\n",
        "for i in range(iterations):\n",
        "    h_x = np.dot(X, theta)\n",
        "    # updating weights\n",
        "    theta = theta - (learning_rate) * gradient_func(X, y, h_x)\n",
        "    # calcuating cost\n",
        "    cost = cost_function(theta, X, y, h_x)\n",
        "  \n",
        "print(theta, cost)"
      ],
      "execution_count": null,
      "outputs": [
        {
          "output_type": "stream",
          "text": [
            "[[1.69980781]\n",
            " [3.9728759 ]\n",
            " [3.70517347]] 0.20350775528825701\n"
          ],
          "name": "stdout"
        }
      ]
    },
    {
      "cell_type": "code",
      "metadata": {
        "colab": {
          "base_uri": "https://localhost:8080/",
          "height": 279
        },
        "id": "-xQtZeH2vNix",
        "outputId": "6032d164-7a22-4e33-e947-94cb92f86f80"
      },
      "source": [
        "# decision boundary \n",
        "x_values = np.array([np.min(X[:, 1]), np.max(X[:, 1])])\n",
        "y_values = - (theta[0] + (theta[1] * x_values)) / theta[2]\n",
        "\n",
        "plt.plot(x_values, y_values, label='Decision Boundary')\n",
        "\n",
        "# data values\n",
        "label_0 = np.where(y == 0)[0]\n",
        "label_1 = np.where(y == 1)[0]\n",
        "plt.scatter(X[label_0, 1], X[label_0, 2], marker = \"o\", c= 'yellow', label = \"Not Admitted\")\n",
        "plt.scatter(X[label_1, 1], X[label_1, 2], marker = \"+\", c= 'black', label = \"Admitted\")\n",
        "\n",
        "plt.xlabel('Marks in 1st Exam')\n",
        "plt.ylabel('Marks in 2nd Exam')\n",
        "plt.legend()\n",
        "plt.show()"
      ],
      "execution_count": null,
      "outputs": [
        {
          "output_type": "display_data",
          "data": {
            "image/png": "[encoded data removed]",
            "text/plain": [
              "<Figure size 432x288 with 1 Axes>"
            ]
          },
          "metadata": {
            "tags": [],
            "needs_background": "light"
          }
        }
      ]
    },
    {
      "cell_type": "markdown",
      "metadata": {
        "id": "pXvgmey4vNiz"
      },
      "source": [
        "### **Evaluating Logistic Regression** "
      ]
    },
    {
      "cell_type": "code",
      "metadata": {
        "id": "mdv8H-VBvNi0"
      },
      "source": [
        "# predict function \n",
        "def predict(x):\n",
        "    h_x = np.dot(x, theta)\n",
        "    return sigmoid(h_x)"
      ],
      "execution_count": null,
      "outputs": []
    },
    {
      "cell_type": "code",
      "metadata": {
        "colab": {
          "base_uri": "https://localhost:8080/"
        },
        "id": "P0dCF_NyvNi0",
        "outputId": "11e01514-d84e-4303-a0e0-ad50b33acc47"
      },
      "source": [
        "X_predict = np.array([[45, 85]])\n",
        "# normalizing \n",
        "X_predict = (X_predict - mean) / standard_dev\n",
        "X_predict = np.c_[np.ones((X_predict.shape[0], 1)), X_predict]\n",
        "# predicting\n",
        "y_predict = predict(X_predict)\n",
        "\n",
        "print(y_predict)"
      ],
      "execution_count": null,
      "outputs": [
        {
          "output_type": "stream",
          "text": [
            "[[0.77362036]]\n"
          ],
          "name": "stdout"
        }
      ]
    },
    {
      "cell_type": "markdown",
      "metadata": {
        "id": "my9GcE7pK9JW"
      },
      "source": [
        "# **REGULARIZED LOGISTIC REGRESSION**"
      ]
    },
    {
      "cell_type": "markdown",
      "metadata": {
        "id": "GtfuJes0LLC4"
      },
      "source": [
        "## **Visualizing the Data**"
      ]
    },
    {
      "cell_type": "code",
      "metadata": {
        "id": "P3BOg-_5LFoU"
      },
      "source": [
        "import numpy as np \n",
        "import matplotlib.pyplot as plt"
      ],
      "execution_count": null,
      "outputs": []
    },
    {
      "cell_type": "code",
      "metadata": {
        "id": "nPMxgf6jLTqN"
      },
      "source": [
        "data = np.loadtxt(\"/content/drive/MyDrive/Colab Notebooks/ex2data2.txt\", delimiter=',' )\n",
        "\n",
        "X, y = np.split(data,[-1],axis=1) #splitting data into x and y"
      ],
      "execution_count": null,
      "outputs": []
    },
    {
      "cell_type": "code",
      "metadata": {
        "colab": {
          "base_uri": "https://localhost:8080/",
          "height": 350
        },
        "id": "KMX2T2nKLu5-",
        "outputId": "32d07bae-9ebd-4458-abec-c143756d9ee9"
      },
      "source": [
        "plt.figure(figsize=(5,5))\n",
        "\n",
        "plt.title('Scatter Plot of training data')\n",
        "plt.xlabel('Microchip Test 1')\n",
        "plt.ylabel('Microchip Test 2')\n",
        "\n",
        "# getting X values with label 0 and 1 and plotting them \n",
        "label_0 = np.where(y == 0)[0]\n",
        "label_1 = np.where(y == 1)[0]\n",
        "\n",
        "plt.scatter(X[label_0, 0], X[label_0, 1], marker = \"o\", c= 'yellow', label = \"y = 0\")\n",
        "plt.scatter(X[label_1, 0], X[label_1, 1], marker = \"+\", c= 'black', label = \"y = 1\")\n",
        "\n",
        "plt.legend()\n",
        "plt.show()"
      ],
      "execution_count": null,
      "outputs": [
        {
          "output_type": "display_data",
          "data": {
            "image/png": "[encoded data removed]",
            "text/plain": [
              "<Figure size 360x360 with 1 Axes>"
            ]
          },
          "metadata": {
            "tags": [],
            "needs_background": "light"
          }
        }
      ]
    },
    {
      "cell_type": "markdown",
      "metadata": {
        "id": "hhekguBbONvz"
      },
      "source": [
        "## **Feature Mapping**"
      ]
    },
    {
      "cell_type": "code",
      "metadata": {
        "id": "QnvZ_mThOTKB"
      },
      "source": [
        "def mapFeature(X1, X2):\n",
        "    degree = 6\n",
        "    out = np.ones(X.shape[0])[:,np.newaxis]\n",
        "    for i in range(1, degree+1):\n",
        "        for j in range(i+1):\n",
        "            out = np.hstack((out, np.multiply(np.power(X1, i-j), np.power(X2, j))))\n",
        "    return out"
      ],
      "execution_count": null,
      "outputs": []
    },
    {
      "cell_type": "markdown",
      "metadata": {
        "id": "tYZnosIBKV0O"
      },
      "source": [
        "## **Cost and Gradient Function**"
      ]
    },
    {
      "cell_type": "code",
      "metadata": {
        "id": "BTss3gcRMElE"
      },
      "source": [
        "# sigmoid func\n",
        "def sigmoid(h_x):\n",
        "    sigmoid_func = 1 / (1 + np.exp(- h_x))\n",
        "    #print(sigmoid_func)\n",
        "    return sigmoid_func\n",
        "\n",
        "\n",
        "def cost_function(theta, x, y, h_x, lambda_t):\n",
        "    m = x.shape[0]\n",
        "    cost = - (1 / m) * np.sum(y  * np.log(sigmoid(h_x)) + (1 - y) * np.log(1 - sigmoid(h_x)))\n",
        "    reg = (lambda_t / (2 * m) ) * (theta[1:].T @ theta[1:])\n",
        "    return cost + reg\n",
        "\n",
        "\n",
        "def gradient_func(theta, x, y, h_x, lambda_t):\n",
        "    m = x.shape[0]\n",
        "    gradient = (1 / m) * np.dot(x.T, sigmoid(h_x) - y) \n",
        "    gradient[1:] = gradient[1:] + (lambda_t / m) * theta[1:]\n",
        "    return gradient"
      ],
      "execution_count": null,
      "outputs": []
    },
    {
      "cell_type": "markdown",
      "metadata": {
        "id": "zICpDZR_KbYS"
      },
      "source": [
        "### **Learning Parameters and Plotting** "
      ]
    },
    {
      "cell_type": "code",
      "metadata": {
        "id": "UEoefexTKTEC"
      },
      "source": [
        "# feature mapping\n",
        "X = mapFeature(np.array(X[:,:1]), np.array(X[:,1:2]))"
      ],
      "execution_count": null,
      "outputs": []
    },
    {
      "cell_type": "code",
      "metadata": {
        "colab": {
          "base_uri": "https://localhost:8080/"
        },
        "id": "s9Pb-qxdQjaW",
        "outputId": "5f4167f3-9dfb-470e-da4f-006f7892ebde"
      },
      "source": [
        "theta = np.zeros((X.shape[1], 1))\n",
        "lambda_t = 1\n",
        "\n",
        "h_x = np.dot(X, theta)\n",
        "cost = cost_function(theta, X, y, h_x, lambda_t)\n",
        "print(\"Initial cost:\" , cost)"
      ],
      "execution_count": null,
      "outputs": [
        {
          "output_type": "stream",
          "text": [
            "Initial cost: [[0.69314718]]\n"
          ],
          "name": "stdout"
        }
      ]
    },
    {
      "cell_type": "code",
      "metadata": {
        "colab": {
          "base_uri": "https://localhost:8080/"
        },
        "id": "Alu0B287RZV6",
        "outputId": "25588374-fb13-4221-df87-c4c8a77cb89b"
      },
      "source": [
        "# gradient descent \n",
        "\n",
        "theta = np.zeros((X.shape[1], 1))\n",
        "lambda_t = 1\n",
        "learning_rate = 0.5\n",
        "iterations = 1000\n",
        "m = X.shape[0] \n",
        "\n",
        "for i in range(iterations):\n",
        "    h_x = np.dot(X, theta)\n",
        "    # updating weights\n",
        "    theta = theta - (learning_rate) * gradient_func(theta, X, y, h_x, lambda_t)\n",
        "    # calcuating cost\n",
        "    cost = cost_function(theta, X, y, h_x, lambda_t)\n",
        "  \n",
        "print(\"Cost: \", cost)"
      ],
      "execution_count": null,
      "outputs": [
        {
          "output_type": "stream",
          "text": [
            "Cost:  [[0.52900391]]\n"
          ],
          "name": "stdout"
        }
      ]
    },
    {
      "cell_type": "code",
      "metadata": {
        "colab": {
          "base_uri": "https://localhost:8080/",
          "height": 283
        },
        "id": "pgA5ep2CSREQ",
        "outputId": "2e922292-18ee-4c31-f880-2c399d618f5b"
      },
      "source": [
        "# decision boundary \n",
        "u = np.linspace(-1, 1.5, 50)\n",
        "v = np.linspace(-1, 1.5, 50)\n",
        "z = np.zeros((len(u), len(v)))\n",
        "\n",
        "for i in range(len(u)):\n",
        "    for j in range(len(v)):\n",
        "        z[i,j] = np.dot(mapFeatureForPlotting(u[i], v[j]), theta)\n",
        "\n",
        "\n",
        "label_0 = np.where(y == 0)[0]\n",
        "label_1 = np.where(y == 1)[0]\n",
        "plt.scatter(X[label_0, 1], X[label_0, 2], marker = \"o\", c= 'yellow', label = \"y = 0\")\n",
        "plt.scatter(X[label_1, 1], X[label_1, 2], marker = \"+\", c= 'black', label = \"y = 1\")\n",
        "\n",
        "decision_boundary = plt.contour(u, v, z, 0)\n",
        "\n",
        "plt.xlabel('Microchip Test1')\n",
        "plt.ylabel('Microchip Test2')\n",
        "\n",
        "plt.legend()\n",
        "plt.show()"
      ],
      "execution_count": null,
      "outputs": [
        {
          "output_type": "display_data",
          "data": {
            "image/png": "[encoded data removed]",
            "text/plain": [
              "<Figure size 432x288 with 1 Axes>"
            ]
          },
          "metadata": {
            "tags": [],
            "needs_background": "light"
          }
        }
      ]
    },
    {
      "cell_type": "markdown",
      "metadata": {
        "id": "sxtW3hzWabl-"
      },
      "source": [
        "### **Different Regularization Parameters** "
      ]
    },
    {
      "cell_type": "code",
      "metadata": {
        "colab": {
          "base_uri": "https://localhost:8080/",
          "height": 300
        },
        "id": "I0bA4KFbaj8S",
        "outputId": "8defcced-8af4-4a0e-9f96-40a8e7f31a97"
      },
      "source": [
        "theta = np.zeros((X.shape[1], 1))\n",
        "lambda_t = 100\n",
        "learning_rate = 0.5\n",
        "iterations = 1000\n",
        "m = X.shape[0] \n",
        "\n",
        "for i in range(iterations):\n",
        "    h_x = np.dot(X, theta)\n",
        "    # updating weights\n",
        "    theta = theta - (learning_rate) * gradient_func(theta, X, y, h_x, lambda_t)\n",
        "    # calcuating cost\n",
        "    cost = cost_function(theta, X, y, h_x, lambda_t)\n",
        "\n",
        "print(\"Cost: \", cost)\n",
        "\n",
        "\n",
        "# decision boundary \n",
        "u = np.linspace(-1, 1.5, 50)\n",
        "v = np.linspace(-1, 1.5, 50)\n",
        "z = np.zeros((len(u), len(v)))\n",
        "\n",
        "\n",
        "for i in range(len(u)):\n",
        "    for j in range(len(v)):\n",
        "        z[i,j] = np.dot(mapFeatureForPlotting(u[i], v[j]), theta)\n",
        "\n",
        "\n",
        "label_0 = np.where(y == 0)[0]\n",
        "label_1 = np.where(y == 1)[0]\n",
        "plt.scatter(X[label_0, 1], X[label_0, 2], marker = \"o\", c= 'yellow', label = \"y = 0\")\n",
        "plt.scatter(X[label_1, 1], X[label_1, 2], marker = \"+\", c= 'black', label = \"y = 1\")\n",
        "\n",
        "decision_boundary = plt.contour(u, v, z, 0)\n",
        "\n",
        "plt.xlabel('Microchip Test1')\n",
        "plt.ylabel('Microchip Test2')\n",
        "\n",
        "plt.legend()\n",
        "plt.show()"
      ],
      "execution_count": null,
      "outputs": [
        {
          "output_type": "stream",
          "text": [
            "Cost:  [[0.68648382]]\n"
          ],
          "name": "stdout"
        },
        {
          "output_type": "display_data",
          "data": {
            "image/png": "[encoded data removed]",
            "text/plain": [
              "<Figure size 432x288 with 1 Axes>"
            ]
          },
          "metadata": {
            "tags": [],
            "needs_background": "light"
          }
        }
      ]
    },
    {
      "cell_type": "code",
      "metadata": {
        "colab": {
          "base_uri": "https://localhost:8080/",
          "height": 300
        },
        "id": "4J2lY2nsi5de",
        "outputId": "f921e79e-5425-45f1-8b95-42024b436d1e"
      },
      "source": [
        "theta = np.zeros((X.shape[1], 1))\n",
        "lambda_t = 0\n",
        "learning_rate = 0.3\n",
        "iterations = 5000\n",
        "m = X.shape[0] \n",
        "\n",
        "for i in range(iterations):\n",
        "    h_x = np.dot(X, theta)\n",
        "    # updating weights\n",
        "    theta = theta - (learning_rate) * gradient_func(theta, X, y, h_x, lambda_t)\n",
        "    # calcuating cost\n",
        "    cost = cost_function(theta, X, y, h_x, lambda_t)\n",
        "\n",
        "print(\"Cost:\", cost)\n",
        "\n",
        "# decision boundary \n",
        "u = np.linspace(-1, 1.5, 50)\n",
        "v = np.linspace(-1, 1.5, 50)\n",
        "z = np.zeros((len(u), len(v)))\n",
        "\n",
        "\n",
        "for i in range(len(u)):\n",
        "    for j in range(len(v)):\n",
        "        z[i,j] = np.dot(mapFeatureForPlotting(u[i], v[j]), theta)\n",
        "\n",
        "\n",
        "label_0 = np.where(y == 0)[0]\n",
        "label_1 = np.where(y == 1)[0]\n",
        "plt.scatter(X[label_0, 1], X[label_0, 2], marker = \"o\", c= 'yellow', label = \"y = 0\")\n",
        "plt.scatter(X[label_1, 1], X[label_1, 2], marker = \"+\", c= 'black', label = \"y = 1\")\n",
        "\n",
        "decision_boundary = plt.contour(u, v, z, 0)\n",
        "\n",
        "plt.xlabel('Microchip Test1')\n",
        "plt.ylabel('Microchip Test2')\n",
        "\n",
        "plt.legend()\n",
        "plt.show()"
      ],
      "execution_count": null,
      "outputs": [
        {
          "output_type": "stream",
          "text": [
            "Cost: [[0.33427637]]\n"
          ],
          "name": "stdout"
        },
        {
          "output_type": "display_data",
          "data": {
            "image/png": "[encoded data removed]",
            "text/plain": [
              "<Figure size 432x288 with 1 Axes>"
            ]
          },
          "metadata": {
            "tags": [],
            "needs_background": "light"
          }
        }
      ]
    }
  ]
}